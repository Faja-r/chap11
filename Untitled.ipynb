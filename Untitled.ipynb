{
 "cells": [
  {
   "cell_type": "code",
   "execution_count": 3,
   "id": "8051f7f6",
   "metadata": {},
   "outputs": [],
   "source": [
    "class apple:\n",
    "    pass"
   ]
  },
  {
   "cell_type": "code",
   "execution_count": 4,
   "id": "2557342a",
   "metadata": {},
   "outputs": [],
   "source": [
    "class apple:\n",
    "    color=\"\"\n",
    "    flavor=\"\""
   ]
  },
  {
   "cell_type": "code",
   "execution_count": 5,
   "id": "25a3920c",
   "metadata": {},
   "outputs": [],
   "source": [
    "jonagold=apple()"
   ]
  },
  {
   "cell_type": "code",
   "execution_count": 6,
   "id": "d56d7974",
   "metadata": {},
   "outputs": [
    {
     "name": "stdout",
     "output_type": "stream",
     "text": [
      "red\n",
      "sweet\n"
     ]
    }
   ],
   "source": [
    "jonagold.color=\"red\"\n",
    "jonagold.flavor=\"sweet\"\n",
    "print(jonagold.color)\n",
    "print(jonagold.flavor)"
   ]
  },
  {
   "cell_type": "code",
   "execution_count": 7,
   "id": "56c4ea3f",
   "metadata": {},
   "outputs": [
    {
     "name": "stdout",
     "output_type": "stream",
     "text": [
      "red\n",
      "sweet\n",
      "RED\n"
     ]
    }
   ],
   "source": [
    "class apple:\n",
    "    pass\n",
    "class apple:\n",
    "    color=\"\"\n",
    "    flavor=\"\"\n",
    "    jonagold=apple()\n",
    "    jonagold.color=\"red\"\n",
    "jonagold.flavor=\"sweet\"\n",
    "print(jonagold.color)\n",
    "print(jonagold.flavor)\n",
    "print(jonagold.color.upper())\n"
   ]
  },
  {
   "cell_type": "code",
   "execution_count": 43,
   "id": "432f720f",
   "metadata": {},
   "outputs": [
    {
     "name": "stdout",
     "output_type": "stream",
     "text": [
      "red\n",
      "sweet\n",
      "RED\n"
     ]
    }
   ],
   "source": [
    "class apple:\n",
    "    pass\n",
    "class apple:\n",
    "    color=\"\"\n",
    "    flavor=\"\"\n",
    "    jonagold=apple()\n",
    "    jonagold.color=\"red\"\n",
    "jonagold.flavor=\"sweet\"\n",
    "print(jonagold.color)\n",
    "print(jonagold.flavor)\n",
    "print(jonagold.color.upper())\n",
    "\n"
   ]
  },
  {
   "cell_type": "code",
   "execution_count": 13,
   "id": "a57b7c0d",
   "metadata": {},
   "outputs": [],
   "source": [
    "class Cat:\n",
    "    pass\n",
    "myCat=Cat()"
   ]
  },
  {
   "cell_type": "code",
   "execution_count": 42,
   "id": "cef64804",
   "metadata": {},
   "outputs": [
    {
     "name": "stdout",
     "output_type": "stream",
     "text": [
      "meow meow meow............\n"
     ]
    }
   ],
   "source": [
    "class Cat:\n",
    "    def speak(self):\n",
    "        print(\"meow meow meow............\")\n",
    "myCat=Cat()\n",
    "myCat.speak()"
   ]
  },
  {
   "cell_type": "code",
   "execution_count": 41,
   "id": "a70c8224",
   "metadata": {},
   "outputs": [
    {
     "name": "stdout",
     "output_type": "stream",
     "text": [
      "meow! I'm{}meow.format(self.name)\n"
     ]
    }
   ],
   "source": [
    "class cat:\n",
    "    name=\" \"\n",
    "    def speak(self):\n",
    "        print(\"meow! I'm{}meow.format(self.name)\")\n",
    "myluna=cat()\n",
    "myluna.name=\"luna\"\n",
    "myluna.speak()"
   ]
  },
  {
   "cell_type": "code",
   "execution_count": 40,
   "id": "137b6adf",
   "metadata": {},
   "outputs": [
    {
     "name": "stdout",
     "output_type": "stream",
     "text": [
      "meow! I'm{}meow.format(self.name)\n",
      "meow! I'm{}meow.format(self.name)\n"
     ]
    }
   ],
   "source": [
    "class cat:\n",
    "    name=\" \"\n",
    "    def speak(self):\n",
    "        print(\"meow! I'm{}meow.format(self.name)\")\n",
    "myluna=cat()\n",
    "myluna.name=\"luna\"\n",
    "myluna.speak()\n",
    "mybella= cat()\n",
    "mybella.name=\"bella\"\n",
    "mybella.speak()"
   ]
  },
  {
   "cell_type": "code",
   "execution_count": 37,
   "id": "f2659b9d",
   "metadata": {},
   "outputs": [
    {
     "data": {
      "text/plain": [
       "0"
      ]
     },
     "execution_count": 37,
     "metadata": {},
     "output_type": "execute_result"
    }
   ],
   "source": [
    "class cat:\n",
    "    years=0\n",
    "    def age(self):\n",
    "        return self.years*12\n",
    "myluna=cat()\n",
    "myluna.age()"
   ]
  },
  {
   "cell_type": "code",
   "execution_count": 39,
   "id": "31cc7259",
   "metadata": {},
   "outputs": [
    {
     "data": {
      "text/plain": [
       "24"
      ]
     },
     "execution_count": 39,
     "metadata": {},
     "output_type": "execute_result"
    }
   ],
   "source": [
    "class cat:\n",
    "    years=0\n",
    "    def age(self):\n",
    "        return self.years*12\n",
    "myluna=cat()\n",
    "myluna.years=2\n",
    "myluna.age()"
   ]
  },
  {
   "cell_type": "code",
   "execution_count": 99,
   "id": "0f5a3532",
   "metadata": {},
   "outputs": [
    {
     "name": "stdout",
     "output_type": "stream",
     "text": [
      "red\n"
     ]
    }
   ],
   "source": [
    "class Apple:\n",
    "    def __init__(self,color,flavor):\n",
    "        self.color=color\n",
    "        self.flavor=flavor\n",
    "        jonagold = Apple(\"red\",\"sweet\")\n",
    "print(jonagold.color)"
   ]
  },
  {
   "cell_type": "code",
   "execution_count": 60,
   "id": "49aa5f0d",
   "metadata": {},
   "outputs": [
    {
     "name": "stdout",
     "output_type": "stream",
     "text": [
      "meow! I'm luna! meow!\n"
     ]
    }
   ],
   "source": [
    "class animal:\n",
    "    sound = \"\"\n",
    "    def __init__(self,name):\n",
    "        self.name= name\n",
    "    def speak(self):\n",
    "        print(\"{sound} I'm {name}! {sound}\".format(name=self.name, sound=self.sound))\n",
    "        \n",
    "class cat(animal):\n",
    "    sound=\"meow!\"\n",
    "    \n",
    "myluna=cat(\"luna\")\n",
    "myluna.speak()"
   ]
  },
  {
   "cell_type": "code",
   "execution_count": 61,
   "id": "a3d655b3",
   "metadata": {},
   "outputs": [
    {
     "name": "stdout",
     "output_type": "stream",
     "text": [
      "meow! I'm luna! meow!\n",
      "mooo I'm milky! mooo\n"
     ]
    }
   ],
   "source": [
    "class animal:\n",
    "    sound = \"\"\n",
    "    def __init__(self,name):\n",
    "        self.name= name\n",
    "    def speak(self):\n",
    "        print(\"{sound} I'm {name}! {sound}\".format(name=self.name, sound=self.sound))\n",
    "        \n",
    "class cat(animal):\n",
    "    sound=\"meow!\"\n",
    "    \n",
    "myluna=cat(\"luna\")\n",
    "myluna.speak()\n",
    "\n",
    "class cow(animal):\n",
    "    sound=\"mooo\"\n",
    "mycow=cow(\"milky\")\n",
    "mycow.speak()"
   ]
  },
  {
   "cell_type": "code",
   "execution_count": 75,
   "id": "5f58d033",
   "metadata": {},
   "outputs": [
    {
     "name": "stdout",
     "output_type": "stream",
     "text": [
      "this polois made of cotton\n"
     ]
    }
   ],
   "source": [
    "class clothing:\n",
    "    material=\"\"\n",
    "    def __init__(self,name):\n",
    "        self.name=name\n",
    "    def checkmaterial(self):\n",
    "        print(\"this {}is made of {}\".format (self.name,self.material))\n",
    "          \n",
    "class shirt(clothing):\n",
    "        material=\"cotton\"\n",
    "polo=shirt(\"polo\")\n",
    "polo.checkmaterial()"
   ]
  },
  {
   "cell_type": "code",
   "execution_count": 87,
   "id": "9402c3ad",
   "metadata": {},
   "outputs": [],
   "source": [
    "class repository:\n",
    "    def __init__(self):\n",
    "        self.packages={}\n",
    "    def add_package(self,package):\n",
    "            self.package[package.name]=package\n",
    "    def total_size(self):\n",
    "            result=0\n",
    "            for package in self.package.values():\n",
    "                result+=package.size\n",
    "            return result\n",
    "            \n",
    "        "
   ]
  },
  {
   "cell_type": "code",
   "execution_count": 88,
   "id": "a711c4a0",
   "metadata": {},
   "outputs": [
    {
     "name": "stdout",
     "output_type": "stream",
     "text": [
      "Meow! I'm Luna! Meow\n"
     ]
    }
   ],
   "source": [
    "class Cat:\n",
    "    name = \"\"\n",
    "    def speak(self):\n",
    "        print(\"Meow! I'm {}! Meow\".format(self.name))\n",
    "myLuna = Cat()\n",
    "myLuna.name = \"Luna\"\n",
    "myLuna.speak()"
   ]
  },
  {
   "cell_type": "code",
   "execution_count": 89,
   "id": "3b54330c",
   "metadata": {},
   "outputs": [
    {
     "name": "stdout",
     "output_type": "stream",
     "text": [
      "Meow! I'm Luna! Meow\n"
     ]
    }
   ],
   "source": [
    "class Cat:\n",
    "    name = \"\"\n",
    "    def speak(self):\n",
    "        print(\"Meow! I'm {}! Meow\".format(self.name))\n",
    "myLuna = Cat()\n",
    "myLuna.name = \"Luna\"\n",
    "myLuna.speak()"
   ]
  },
  {
   "cell_type": "code",
   "execution_count": 90,
   "id": "6260da4e",
   "metadata": {},
   "outputs": [
    {
     "name": "stdout",
     "output_type": "stream",
     "text": [
      "Meow! I'm Luna! Meow\n"
     ]
    }
   ],
   "source": [
    "class Cat:\n",
    "    name = \"\"\n",
    "    def speak(self):\n",
    "        print(\"Meow! I'm {}! Meow\".format(self.name))\n",
    "myLuna = Cat()\n",
    "myLuna.name = \"Luna\"\n",
    "myLuna.speak()"
   ]
  },
  {
   "cell_type": "code",
   "execution_count": 91,
   "id": "9cd63c9a",
   "metadata": {},
   "outputs": [
    {
     "name": "stdout",
     "output_type": "stream",
     "text": [
      "Meow! I'm Luna! Meow\n"
     ]
    }
   ],
   "source": [
    "class Cat:\n",
    "    name = \"\"\n",
    "    def speak(self):\n",
    "        print(\"Meow! I'm {}! Meow\".format(self.name))\n",
    "myLuna = Cat()\n",
    "myLuna.name = \"Luna\"\n",
    "myLuna.speak()"
   ]
  },
  {
   "cell_type": "code",
   "execution_count": 92,
   "id": "1726a65b",
   "metadata": {},
   "outputs": [
    {
     "name": "stdout",
     "output_type": "stream",
     "text": [
      "<__main__.Apple object at 0x0000025B59C2F010>\n"
     ]
    }
   ],
   "source": [
    "class Apple:\n",
    "    def __init__(self, color, flavor):\n",
    "        self.color = color\n",
    "        self.flavor = flavor\n",
    "\n",
    "jonagold = Apple(\"red\", \"sweet\")\n",
    "print(jonagold)"
   ]
  },
  {
   "cell_type": "code",
   "execution_count": 93,
   "id": "d93e85fd",
   "metadata": {},
   "outputs": [
    {
     "name": "stdout",
     "output_type": "stream",
     "text": [
      "Help on class Apple in module __main__:\n",
      "\n",
      "class Apple(builtins.object)\n",
      " |  Apple(color, flavor)\n",
      " |  \n",
      " |  Methods defined here:\n",
      " |  \n",
      " |  __init__(self, color, flavor)\n",
      " |      Initialize self.  See help(type(self)) for accurate signature.\n",
      " |  \n",
      " |  ----------------------------------------------------------------------\n",
      " |  Data descriptors defined here:\n",
      " |  \n",
      " |  __dict__\n",
      " |      dictionary for instance variables (if defined)\n",
      " |  \n",
      " |  __weakref__\n",
      " |      list of weak references to the object (if defined)\n",
      "\n"
     ]
    }
   ],
   "source": [
    "help(Apple)"
   ]
  },
  {
   "cell_type": "code",
   "execution_count": 94,
   "id": "a17afcdb",
   "metadata": {},
   "outputs": [
    {
     "name": "stdout",
     "output_type": "stream",
     "text": [
      "hi, my name is Ali\n",
      "None\n"
     ]
    }
   ],
   "source": [
    "class Person:\n",
    "    def __init__(self, name):\n",
    "        self.name = name\n",
    "    def greeting(self):\n",
    "        # Should return \"hi, my name is \" followed by the name of the Person.\n",
    "        return print(\"hi, my name is {}\".format(self.name))\n",
    "\n",
    "# Create a new instance with a name of your choice\n",
    "some_person = Person(\"Ali\") \n",
    "# Call the greeting method\n",
    "print(some_person.greeting())"
   ]
  },
  {
   "cell_type": "code",
   "execution_count": 95,
   "id": "b7c2bb42",
   "metadata": {},
   "outputs": [
    {
     "name": "stdout",
     "output_type": "stream",
     "text": [
      "Meow! I'm Luna! Meow!\n"
     ]
    }
   ],
   "source": [
    "class Animal:\n",
    "    sound = \"\"\n",
    "    def __init__(self, name):\n",
    "        self.name = name\n",
    "    def speak(self):\n",
    "        print(\"{sound} I'm {name}! {sound}\".format(name=self.name, sound=self.sound))\n",
    "\n",
    "class Cat(Animal):\n",
    "    sound = \"Meow!\"\n",
    "    \n",
    "myLuna = Cat(\"Luna\")\n",
    "myLuna.speak()\n",
    "\n"
   ]
  },
  {
   "cell_type": "code",
   "execution_count": 96,
   "id": "59ce4160",
   "metadata": {},
   "outputs": [
    {
     "name": "stdout",
     "output_type": "stream",
     "text": [
      "Meow! I'm Luna! Meow!\n",
      "Moooo I'm Milky! Moooo\n"
     ]
    }
   ],
   "source": [
    "class Animal:\n",
    "    sound = \"\"\n",
    "    def __init__(self, name):\n",
    "        self.name = name\n",
    "    def speak(self):\n",
    "        print(\"{sound} I'm {name}! {sound}\".format(name=self.name, sound=self.sound))\n",
    "\n",
    "class Cat(Animal):\n",
    "    sound = \"Meow!\"\n",
    "    \n",
    "myLuna = Cat(\"Luna\")\n",
    "myLuna.speak()\n",
    "\n",
    "class Cow(Animal):\n",
    "    sound = \"Moooo\"\n",
    "    \n",
    "myCow = Cow(\"Milky\")\n",
    "myCow.speak()"
   ]
  },
  {
   "cell_type": "code",
   "execution_count": 97,
   "id": "b3e3e297",
   "metadata": {},
   "outputs": [],
   "source": [
    "class Repository:\n",
    "    def __init__(self):\n",
    "        self.packages = {}\n",
    "    def add_package(self, package):\n",
    "        self.packages[package.name] = package\n",
    "    def total_size(self):\n",
    "        result = 0\n",
    "        for package in self.packages.values():\n",
    "            result += package.size\n",
    "        return result"
   ]
  },
  {
   "cell_type": "code",
   "execution_count": 98,
   "id": "d829150c",
   "metadata": {},
   "outputs": [
    {
     "data": {
      "text/plain": [
       "list"
      ]
     },
     "execution_count": 98,
     "metadata": {},
     "output_type": "execute_result"
    }
   ],
   "source": [
    "a = []\n",
    "type(a)"
   ]
  },
  {
   "cell_type": "code",
   "execution_count": null,
   "id": "af649f88",
   "metadata": {},
   "outputs": [],
   "source": []
  },
  {
   "cell_type": "code",
   "execution_count": null,
   "id": "68aa75ce",
   "metadata": {},
   "outputs": [],
   "source": []
  }
 ],
 "metadata": {
  "kernelspec": {
   "display_name": "Python 3 (ipykernel)",
   "language": "python",
   "name": "python3"
  },
  "language_info": {
   "codemirror_mode": {
    "name": "ipython",
    "version": 3
   },
   "file_extension": ".py",
   "mimetype": "text/x-python",
   "name": "python",
   "nbconvert_exporter": "python",
   "pygments_lexer": "ipython3",
   "version": "3.11.4"
  }
 },
 "nbformat": 4,
 "nbformat_minor": 5
}
